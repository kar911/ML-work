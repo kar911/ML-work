{
 "cells": [
  {
   "cell_type": "code",
   "execution_count": 1,
   "id": "d0375627",
   "metadata": {},
   "outputs": [],
   "source": [
    "import pandas as pd\n",
    "import os\n",
    "from sklearn.linear_model import LinearRegression \n",
    "from sklearn.metrics import mean_squared_error, r2_score\n",
    "from sklearn.model_selection import train_test_split\n",
    "from sklearn.preprocessing import PolynomialFeatures\n",
    "import numpy as np\n",
    "from sklearn.impute import SimpleImputer\n",
    "from sklearn.pipeline import Pipeline"
   ]
  },
  {
   "cell_type": "code",
   "execution_count": 2,
   "id": "4fb5c0e9",
   "metadata": {},
   "outputs": [
    {
     "data": {
      "text/plain": [
       "(176, 58)"
      ]
     },
     "execution_count": 2,
     "metadata": {},
     "output_type": "execute_result"
    }
   ],
   "source": [
    "chem = pd.read_csv(r\"C:\\Training\\Academy\\Statistics (Python)\\Cases\\Chemical Process Data\\ChemicalProcess.csv\")\n",
    "chem.shape"
   ]
  },
  {
   "cell_type": "code",
   "execution_count": 3,
   "id": "63495948",
   "metadata": {},
   "outputs": [
    {
     "data": {
      "text/plain": [
       "Index(['Yield', 'BiologicalMaterial01', 'BiologicalMaterial02',\n",
       "       'BiologicalMaterial03', 'BiologicalMaterial04', 'BiologicalMaterial05',\n",
       "       'BiologicalMaterial06', 'BiologicalMaterial07', 'BiologicalMaterial08',\n",
       "       'BiologicalMaterial09', 'BiologicalMaterial10', 'BiologicalMaterial11',\n",
       "       'BiologicalMaterial12', 'ManufacturingProcess01',\n",
       "       'ManufacturingProcess02', 'ManufacturingProcess03',\n",
       "       'ManufacturingProcess04', 'ManufacturingProcess05',\n",
       "       'ManufacturingProcess06', 'ManufacturingProcess07',\n",
       "       'ManufacturingProcess08', 'ManufacturingProcess09',\n",
       "       'ManufacturingProcess10', 'ManufacturingProcess11',\n",
       "       'ManufacturingProcess12', 'ManufacturingProcess13',\n",
       "       'ManufacturingProcess14', 'ManufacturingProcess15',\n",
       "       'ManufacturingProcess16', 'ManufacturingProcess17',\n",
       "       'ManufacturingProcess18', 'ManufacturingProcess19',\n",
       "       'ManufacturingProcess20', 'ManufacturingProcess21',\n",
       "       'ManufacturingProcess22', 'ManufacturingProcess23',\n",
       "       'ManufacturingProcess24', 'ManufacturingProcess25',\n",
       "       'ManufacturingProcess26', 'ManufacturingProcess27',\n",
       "       'ManufacturingProcess28', 'ManufacturingProcess29',\n",
       "       'ManufacturingProcess30', 'ManufacturingProcess31',\n",
       "       'ManufacturingProcess32', 'ManufacturingProcess33',\n",
       "       'ManufacturingProcess34', 'ManufacturingProcess35',\n",
       "       'ManufacturingProcess36', 'ManufacturingProcess37',\n",
       "       'ManufacturingProcess38', 'ManufacturingProcess39',\n",
       "       'ManufacturingProcess40', 'ManufacturingProcess41',\n",
       "       'ManufacturingProcess42', 'ManufacturingProcess43',\n",
       "       'ManufacturingProcess44', 'ManufacturingProcess45'],\n",
       "      dtype='object')"
      ]
     },
     "execution_count": 3,
     "metadata": {},
     "output_type": "execute_result"
    }
   ],
   "source": [
    "chem.columns"
   ]
  },
  {
   "cell_type": "code",
   "execution_count": 4,
   "id": "b5c067c0",
   "metadata": {},
   "outputs": [
    {
     "data": {
      "text/plain": [
       "Yield                      0\n",
       "BiologicalMaterial01       0\n",
       "BiologicalMaterial02       0\n",
       "BiologicalMaterial03       0\n",
       "BiologicalMaterial04       0\n",
       "BiologicalMaterial05       0\n",
       "BiologicalMaterial06       0\n",
       "BiologicalMaterial07       0\n",
       "BiologicalMaterial08       0\n",
       "BiologicalMaterial09       0\n",
       "BiologicalMaterial10       0\n",
       "BiologicalMaterial11       0\n",
       "BiologicalMaterial12       0\n",
       "ManufacturingProcess01     1\n",
       "ManufacturingProcess02     3\n",
       "ManufacturingProcess03    15\n",
       "ManufacturingProcess04     1\n",
       "ManufacturingProcess05     1\n",
       "ManufacturingProcess06     2\n",
       "ManufacturingProcess07     1\n",
       "ManufacturingProcess08     1\n",
       "ManufacturingProcess09     0\n",
       "ManufacturingProcess10     9\n",
       "ManufacturingProcess11    10\n",
       "ManufacturingProcess12     1\n",
       "ManufacturingProcess13     0\n",
       "ManufacturingProcess14     1\n",
       "ManufacturingProcess15     0\n",
       "ManufacturingProcess16     0\n",
       "ManufacturingProcess17     0\n",
       "ManufacturingProcess18     0\n",
       "ManufacturingProcess19     0\n",
       "ManufacturingProcess20     0\n",
       "ManufacturingProcess21     0\n",
       "ManufacturingProcess22     1\n",
       "ManufacturingProcess23     1\n",
       "ManufacturingProcess24     1\n",
       "ManufacturingProcess25     5\n",
       "ManufacturingProcess26     5\n",
       "ManufacturingProcess27     5\n",
       "ManufacturingProcess28     5\n",
       "ManufacturingProcess29     5\n",
       "ManufacturingProcess30     5\n",
       "ManufacturingProcess31     5\n",
       "ManufacturingProcess32     0\n",
       "ManufacturingProcess33     5\n",
       "ManufacturingProcess34     5\n",
       "ManufacturingProcess35     5\n",
       "ManufacturingProcess36     5\n",
       "ManufacturingProcess37     0\n",
       "ManufacturingProcess38     0\n",
       "ManufacturingProcess39     0\n",
       "ManufacturingProcess40     1\n",
       "ManufacturingProcess41     1\n",
       "ManufacturingProcess42     0\n",
       "ManufacturingProcess43     0\n",
       "ManufacturingProcess44     0\n",
       "ManufacturingProcess45     0\n",
       "dtype: int64"
      ]
     },
     "execution_count": 4,
     "metadata": {},
     "output_type": "execute_result"
    }
   ],
   "source": [
    "np.sum(chem.isnull())"
   ]
  },
  {
   "cell_type": "markdown",
   "id": "3b38e552",
   "metadata": {},
   "source": [
    "### Mean Imputation"
   ]
  },
  {
   "cell_type": "code",
   "execution_count": 5,
   "id": "6e9a1ffa",
   "metadata": {},
   "outputs": [
    {
     "data": {
      "text/plain": [
       "pandas.core.frame.DataFrame"
      ]
     },
     "execution_count": 5,
     "metadata": {},
     "output_type": "execute_result"
    }
   ],
   "source": [
    "imp = SimpleImputer(strategy='mean').set_output(transform=\"pandas\")\n",
    "imputed = imp.fit_transform(chem)\n",
    "type(imputed)"
   ]
  },
  {
   "cell_type": "code",
   "execution_count": 6,
   "id": "b736bc2e",
   "metadata": {},
   "outputs": [
    {
     "data": {
      "text/plain": [
       "((123, 57), (53, 57), (123,), (53,))"
      ]
     },
     "execution_count": 6,
     "metadata": {},
     "output_type": "execute_result"
    }
   ],
   "source": [
    "X = imputed.drop('Yield', axis=1)\n",
    "y = imputed['Yield']\n",
    "X_train, X_test, y_train, y_test = train_test_split(X, y, test_size=0.3,\n",
    "                                                    random_state=23)\n",
    "X_train.shape, X_test.shape, y_train.shape, y_test.shape"
   ]
  },
  {
   "cell_type": "code",
   "execution_count": 7,
   "id": "715141b7",
   "metadata": {},
   "outputs": [
    {
     "name": "stdout",
     "output_type": "stream",
     "text": [
      "0.407181682727197\n"
     ]
    }
   ],
   "source": [
    "lr = LinearRegression()\n",
    "lr.fit(X_train, y_train)\n",
    "ycap = lr.predict(X_test)\n",
    "print(r2_score(y_test, ycap))"
   ]
  },
  {
   "cell_type": "code",
   "execution_count": 8,
   "id": "b69a71c5",
   "metadata": {},
   "outputs": [
    {
     "name": "stdout",
     "output_type": "stream",
     "text": [
      "-13.94621386275129\n"
     ]
    }
   ],
   "source": [
    "poly = PolynomialFeatures(degree=2)\n",
    "lr = LinearRegression()\n",
    "pipe = Pipeline([('POLY',poly), ('LR', lr)])\n",
    "pipe.fit(X_train, y_train)\n",
    "ycap = pipe.predict(X_test)\n",
    "print(r2_score(y_test, ycap))"
   ]
  },
  {
   "cell_type": "code",
   "execution_count": 9,
   "id": "06cd49df",
   "metadata": {},
   "outputs": [
    {
     "name": "stdout",
     "output_type": "stream",
     "text": [
      "-13.325020122456074\n"
     ]
    }
   ],
   "source": [
    "poly = PolynomialFeatures(degree=3)\n",
    "lr = LinearRegression()\n",
    "pipe = Pipeline([('POLY',poly), ('LR', lr)])\n",
    "pipe.fit(X_train, y_train)\n",
    "ycap = pipe.predict(X_test)\n",
    "print(r2_score(y_test, ycap))"
   ]
  },
  {
   "cell_type": "markdown",
   "id": "5b9cc92b",
   "metadata": {},
   "source": [
    "### Median Imputation"
   ]
  },
  {
   "cell_type": "code",
   "execution_count": 10,
   "id": "851897ae",
   "metadata": {},
   "outputs": [
    {
     "data": {
      "text/plain": [
       "pandas.core.frame.DataFrame"
      ]
     },
     "execution_count": 10,
     "metadata": {},
     "output_type": "execute_result"
    }
   ],
   "source": [
    "imp = SimpleImputer(strategy='median').set_output(transform=\"pandas\")\n",
    "imputed = imp.fit_transform(chem)\n",
    "type(imputed)"
   ]
  },
  {
   "cell_type": "code",
   "execution_count": 11,
   "id": "ae2bf02c",
   "metadata": {},
   "outputs": [
    {
     "data": {
      "text/plain": [
       "((123, 57), (53, 57), (123,), (53,))"
      ]
     },
     "execution_count": 11,
     "metadata": {},
     "output_type": "execute_result"
    }
   ],
   "source": [
    "X = imputed.drop('Yield', axis=1)\n",
    "y = imputed['Yield']\n",
    "X_train, X_test, y_train, y_test = train_test_split(X, y, test_size=0.3,\n",
    "                                                    random_state=23)\n",
    "X_train.shape, X_test.shape, y_train.shape, y_test.shape"
   ]
  },
  {
   "cell_type": "code",
   "execution_count": 12,
   "id": "470d9a4b",
   "metadata": {},
   "outputs": [
    {
     "name": "stdout",
     "output_type": "stream",
     "text": [
      "0.39479825978664973\n"
     ]
    }
   ],
   "source": [
    "lr = LinearRegression()\n",
    "lr.fit(X_train, y_train)\n",
    "ycap = lr.predict(X_test)\n",
    "print(r2_score(y_test, ycap))"
   ]
  },
  {
   "cell_type": "code",
   "execution_count": 13,
   "id": "490ffe36",
   "metadata": {},
   "outputs": [
    {
     "name": "stdout",
     "output_type": "stream",
     "text": [
      "-13.252078970983781\n"
     ]
    }
   ],
   "source": [
    "poly = PolynomialFeatures(degree=2)\n",
    "lr = LinearRegression()\n",
    "pipe = Pipeline([('POLY',poly), ('LR', lr)])\n",
    "pipe.fit(X_train, y_train)\n",
    "ycap = pipe.predict(X_test)\n",
    "print(r2_score(y_test, ycap))"
   ]
  },
  {
   "cell_type": "code",
   "execution_count": 14,
   "id": "cba2ca95",
   "metadata": {},
   "outputs": [
    {
     "name": "stdout",
     "output_type": "stream",
     "text": [
      "-12.430061268901452\n"
     ]
    }
   ],
   "source": [
    "poly = PolynomialFeatures(degree=3)\n",
    "lr = LinearRegression()\n",
    "pipe = Pipeline([('POLY',poly), ('LR', lr)])\n",
    "pipe.fit(X_train, y_train)\n",
    "ycap = pipe.predict(X_test)\n",
    "print(r2_score(y_test, ycap))"
   ]
  }
 ],
 "metadata": {
  "kernelspec": {
   "display_name": "Python 3 (ipykernel)",
   "language": "python",
   "name": "python3"
  },
  "language_info": {
   "codemirror_mode": {
    "name": "ipython",
    "version": 3
   },
   "file_extension": ".py",
   "mimetype": "text/x-python",
   "name": "python",
   "nbconvert_exporter": "python",
   "pygments_lexer": "ipython3",
   "version": "3.11.5"
  }
 },
 "nbformat": 4,
 "nbformat_minor": 5
}
